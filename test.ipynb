{
 "cells": [
  {
   "cell_type": "code",
   "execution_count": 36,
   "metadata": {},
   "outputs": [],
   "source": [
    "from extractText import extract_telugu_text"
   ]
  },
  {
   "cell_type": "code",
   "execution_count": 37,
   "metadata": {},
   "outputs": [
    {
     "name": "stdout",
     "output_type": "stream",
     "text": [
      "+ ఎన్నికల ఫిర్యాదుల కోసం కలెక్టరేట్‌లో కంట్రోల్‌ రూమ్‌\n",
      "\n"
     ]
    }
   ],
   "source": [
    "image_path = 'images/image.png'\n",
    "telugu_text = extract_telugu_text(image_path)\n",
    "print(telugu_text)"
   ]
  },
  {
   "cell_type": "code",
   "execution_count": 50,
   "metadata": {},
   "outputs": [
    {
     "name": "stdout",
     "output_type": "stream",
     "text": [
      "ఎన్నికల\n",
      "ఎ\n",
      "న\n",
      "్\n",
      "న\n",
      "ి\n",
      "క\n",
      "ల\n"
     ]
    }
   ],
   "source": [
    "\n",
    "print(telugu_text[2:9])\n",
    "for i in range(2, 9):\n",
    "    print(telugu_text[i])"
   ]
  },
  {
   "cell_type": "code",
   "execution_count": null,
   "metadata": {},
   "outputs": [],
   "source": []
  }
 ],
 "metadata": {
  "kernelspec": {
   "display_name": "venv",
   "language": "python",
   "name": "python3"
  },
  "language_info": {
   "codemirror_mode": {
    "name": "ipython",
    "version": 3
   },
   "file_extension": ".py",
   "mimetype": "text/x-python",
   "name": "python",
   "nbconvert_exporter": "python",
   "pygments_lexer": "ipython3",
   "version": "3.11.3"
  }
 },
 "nbformat": 4,
 "nbformat_minor": 2
}
