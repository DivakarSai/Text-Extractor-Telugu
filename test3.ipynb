{
 "cells": [
  {
   "cell_type": "code",
   "execution_count": 1,
   "metadata": {},
   "outputs": [],
   "source": [
    "import cv2\n",
    "\n"
   ]
  },
  {
   "cell_type": "code",
   "execution_count": 2,
   "metadata": {},
   "outputs": [],
   "source": [
    "# Open the video file\n",
    "video_path = \"videos/tv9_video.mp4\"\n",
    "cap = cv2.VideoCapture(video_path)"
   ]
  },
  {
   "cell_type": "code",
   "execution_count": 3,
   "metadata": {},
   "outputs": [],
   "source": [
    "\n",
    "\n",
    "# Check if the video file was successfully opened\n",
    "if not cap.isOpened():\n",
    "    print(\"Error opening video file\")\n",
    "    exit()\n"
   ]
  },
  {
   "cell_type": "code",
   "execution_count": 4,
   "metadata": {},
   "outputs": [
    {
     "name": "stdout",
     "output_type": "stream",
     "text": [
      "Frame width: 854\n",
      "Frame height: 480\n",
      "FPS: 22.883333333333333\n",
      "Frame count: 1374\n"
     ]
    }
   ],
   "source": [
    "# Get the video frame width, height and frames per second\n",
    "\n",
    "frame_width = int(cap.get(cv2.CAP_PROP_FRAME_WIDTH))\n",
    "frame_height = int(cap.get(cv2.CAP_PROP_FRAME_HEIGHT))\n",
    "fps = cap.get(cv2.CAP_PROP_FPS)\n",
    "frame_count = int(cap.get(cv2.CAP_PROP_FRAME_COUNT))\n",
    "\n",
    "print(\"Frame width:\", frame_width)\n",
    "print(\"Frame height:\", frame_height)\n",
    "print(\"FPS:\", fps)\n",
    "print(\"Frame count:\", frame_count)\n"
   ]
  },
  {
   "cell_type": "code",
   "execution_count": 5,
   "metadata": {},
   "outputs": [],
   "source": [
    "# see first frame\n",
    "\n",
    "ret, frame = cap.read()\n",
    "\n"
   ]
  },
  {
   "cell_type": "code",
   "execution_count": 6,
   "metadata": {},
   "outputs": [],
   "source": [
    "from detection.region import scrolling_region\n",
    "\n"
   ]
  },
  {
   "cell_type": "code",
   "execution_count": 7,
   "metadata": {},
   "outputs": [
    {
     "data": {
      "text/plain": [
       "-1"
      ]
     },
     "execution_count": 7,
     "metadata": {},
     "output_type": "execute_result"
    }
   ],
   "source": [
    "# show the first frame with the scrolling region bounding box\n",
    "\n",
    "x, y, w, h = scrolling_region\n",
    "\n",
    "cv2.rectangle(frame, (x, y), (x+w, y+h), (0, 255, 0), 2)\n",
    "cv2.imshow(\"Frame\", frame)\n",
    "cv2.waitKey(10)"
   ]
  },
  {
   "cell_type": "code",
   "execution_count": 8,
   "metadata": {},
   "outputs": [
    {
     "data": {
      "text/plain": [
       "numpy.ndarray"
      ]
     },
     "execution_count": 8,
     "metadata": {},
     "output_type": "execute_result"
    }
   ],
   "source": [
    "type(frame)\n"
   ]
  },
  {
   "cell_type": "code",
   "execution_count": 9,
   "metadata": {},
   "outputs": [],
   "source": [
    "from extractText import extract_telugu_text\n"
   ]
  },
  {
   "cell_type": "code",
   "execution_count": 10,
   "metadata": {},
   "outputs": [],
   "source": [
    "telugu_text = extract_telugu_text(frame, x, y, w, h)"
   ]
  },
  {
   "cell_type": "code",
   "execution_count": 11,
   "metadata": {},
   "outputs": [
    {
     "data": {
      "text/plain": [
       "'రాత్రి 9గంటలకు // అన్ని రకాల వార్తల కోసం చూస్తూనే ఉండం'"
      ]
     },
     "execution_count": 11,
     "metadata": {},
     "output_type": "execute_result"
    }
   ],
   "source": [
    "telugu_text"
   ]
  },
  {
   "cell_type": "code",
   "execution_count": null,
   "metadata": {},
   "outputs": [],
   "source": [
    "import re\n",
    "\n",
    "def stitch_strings(first_string, second_string):\n",
    "\n",
    "\n",
    "    # Convert the strings to lowercase for case-insensitive matching\n",
    "    first_string = first_string.lower()\n",
    "    second_string = second_string.lower()\n",
    "\n",
    "    # Find the common pattern\n",
    "    match = re.search(r'(.+)(\\s+)(\\S+)$', first_string)\n",
    "    if match:\n",
    "        common_suffix = match.group(3)\n",
    "        index = second_string.find(common_suffix)\n",
    "        if index != -1:\n",
    "            # Combine the strings using the common pattern\n",
    "            return first_string + second_string[index + len(common_suffix):]\n",
    "    \n",
    "    # If no common pattern is found, just concatenate the strings\n",
    "    return first_string + second_string\n",
    "\n",
    "# Example usage\n",
    "telugu_first_string = \"జాన్ ఒక మంచి పిల్లి\"\n",
    "telugu_second_string = \"మంచి పిల్లి మరియు అతను బగుడుగా ఆడుతాడు\"\n",
    "result = stitch_strings(telugu_text1, telugu_text2)\n",
    "\n"
   ]
  }
 ],
 "metadata": {
  "kernelspec": {
   "display_name": "venv",
   "language": "python",
   "name": "python3"
  },
  "language_info": {
   "codemirror_mode": {
    "name": "ipython",
    "version": 3
   },
   "file_extension": ".py",
   "mimetype": "text/x-python",
   "name": "python",
   "nbconvert_exporter": "python",
   "pygments_lexer": "ipython3",
   "version": "3.11.3"
  }
 },
 "nbformat": 4,
 "nbformat_minor": 2
}
