{
 "cells": [
  {
   "cell_type": "code",
   "execution_count": 1,
   "metadata": {},
   "outputs": [],
   "source": [
    "import cv2\n",
    "from video import Video\n",
    "import pprint"
   ]
  },
  {
   "cell_type": "code",
   "execution_count": 2,
   "metadata": {},
   "outputs": [],
   "source": [
    "# Open the video file\n",
    "path = \"videos/tv9_video.mp4\"\n",
    "video = Video(path)"
   ]
  },
  {
   "cell_type": "code",
   "execution_count": 3,
   "metadata": {},
   "outputs": [],
   "source": [
    "from textExtraction import text_from_video"
   ]
  },
  {
   "cell_type": "code",
   "execution_count": 4,
   "metadata": {},
   "outputs": [],
   "source": [
    "from regionofinterest import scrolling_region"
   ]
  },
  {
   "cell_type": "code",
   "execution_count": 5,
   "metadata": {},
   "outputs": [
    {
     "name": "stdout",
     "output_type": "stream",
     "text": [
      "ట్లో రాత్రి 9గంటలకు // అన్ని రకాల వార్తల కోసం చూస్తూనే కో నెంబర్‌ వన్‌ న్యూస్‌ నెట్‌వర్క్‌: నెంబర్‌ వన్‌ న్యూస్‌ ఛానల్‌ టీవీ? తెలుగు నిరంతరం ప్రజల కోసం, మెరుగైన సమాజం కోసం చూడండి ౪9 తెలుగు. // 666 820%: మీ ప్రాంతంలో సమస్యలేమైనా ఉంటే మా %411 10. 1౧(0్రు[/9.00౧ 10. 1౧10(్రగ/.000 తగ్‌ మార్నింగ్‌ ప్రైమ్‌ టైమ్‌ 1] గగ మార్నింగ్‌ ప్రైమ్‌ టైమ్‌. మార్షింగ్‌ ప్రైమ్‌ టైమ్‌ . ఉదయం ర నుంచి 11గంటల వరకు బ్రేకింగ్‌ న్యూస్‌, స్పీడ్‌ న్యూస్‌... మీ కోసం 5గంటలపాటు నాన్‌స్టాప్‌గా మీ ముందుకు 1౪9 మార్నింగ్‌ ప్రైమ్‌ టైమ్‌. // థొ ర్నింగ్‌ ప్రైమ్‌ టైమ్‌. // శ్ర ఇన్‌సైడ్‌ రాజకీయాలపై పొలిటికల్‌ మిర్చి సా:\n"
     ]
    }
   ],
   "source": [
    "result = text_from_video(video, scrolling_region)\n",
    "print(result)"
   ]
  }
 ],
 "metadata": {
  "kernelspec": {
   "display_name": "venv",
   "language": "python",
   "name": "python3"
  },
  "language_info": {
   "codemirror_mode": {
    "name": "ipython",
    "version": 3
   },
   "file_extension": ".py",
   "mimetype": "text/x-python",
   "name": "python",
   "nbconvert_exporter": "python",
   "pygments_lexer": "ipython3",
   "version": "3.11.3"
  }
 },
 "nbformat": 4,
 "nbformat_minor": 2
}
