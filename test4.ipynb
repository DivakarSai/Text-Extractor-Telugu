{
 "cells": [
  {
   "cell_type": "code",
   "execution_count": 1,
   "metadata": {},
   "outputs": [],
   "source": [
    "import cv2\n",
    "from video_processing.videoExtraction import capture_video\n"
   ]
  },
  {
   "cell_type": "code",
   "execution_count": 2,
   "metadata": {},
   "outputs": [],
   "source": [
    "# Open the video file\n",
    "video_path = \"videos/tv9_video.mp4\"\n",
    "cap = capture_video(video_path)"
   ]
  },
  {
   "cell_type": "code",
   "execution_count": 3,
   "metadata": {},
   "outputs": [
    {
     "name": "stdout",
     "output_type": "stream",
     "text": [
      "Frame width: 854\n",
      "Frame height: 480\n",
      "FPS: 22.883333333333333\n",
      "Frame count: 1374\n"
     ]
    }
   ],
   "source": [
    "# Get the video frame width, height and frames per second\n",
    "\n",
    "frame_width = int(cap.get(cv2.CAP_PROP_FRAME_WIDTH))\n",
    "frame_height = int(cap.get(cv2.CAP_PROP_FRAME_HEIGHT))\n",
    "fps = cap.get(cv2.CAP_PROP_FPS)\n",
    "frame_count = int(cap.get(cv2.CAP_PROP_FRAME_COUNT))\n",
    "\n",
    "print(\"Frame width:\", frame_width)\n",
    "print(\"Frame height:\", frame_height)\n",
    "print(\"FPS:\", fps)\n",
    "print(\"Frame count:\", frame_count)\n"
   ]
  },
  {
   "cell_type": "code",
   "execution_count": 4,
   "metadata": {},
   "outputs": [],
   "source": [
    "from detection.region import scrolling_region\n",
    "\n"
   ]
  },
  {
   "cell_type": "code",
   "execution_count": 5,
   "metadata": {},
   "outputs": [],
   "source": [
    "# show the first frame with the scrolling region bounding box\n",
    "\n",
    "x, y, w, h = scrolling_region"
   ]
  },
  {
   "cell_type": "code",
   "execution_count": 6,
   "metadata": {},
   "outputs": [],
   "source": [
    "from extractText import extract_telugu_text"
   ]
  },
  {
   "cell_type": "code",
   "execution_count": 7,
   "metadata": {},
   "outputs": [],
   "source": [
    "from stitchText import stitch_strings"
   ]
  },
  {
   "cell_type": "code",
   "execution_count": 8,
   "metadata": {},
   "outputs": [
    {
     "name": "stdout",
     "output_type": "stream",
     "text": [
      "current frame: రాత్రి 9గంటలకు // అన్ని రకాల వార్తల కోసం చూస్తూనే ఉండండి \n",
      "current frame: అన్ని రకాల వార్తల కోసం చూస్తూనే ఉండండి క\n",
      "current frame: ల కోసం చూస్తూనే ఉండండి\n",
      "current frame: నెంబర్‌ వన్‌ న్యూస్‌ నెట్‌వర్క్‌: నెంబర్‌ వన్\n",
      "current frame: ెంబర్‌ వన్‌ న్యూస్‌ నెట్‌వర్క్‌: నెంబర్‌ వన్‌ న్యూస్‌ ఛానల్‌ టీవీ?\n",
      "current frame: ్‌ వన్‌ న్యూస్‌ నెట్‌వర్క్‌: నెంబర్‌ వన్‌ న్యూస్‌ ఛానల్‌ టీవీ9 తెలుగు నిరంతరం ప\n",
      "current frame: ్క్‌: నెంబర్‌ వన్‌ న్యూస్‌ ఛానల్‌ టీవీ9 తెలుగు నిరంతరం ప్రజల కోసం, మెరుగై\n",
      "current frame: ‌ ఛానల్‌ టీవీ9 తెలుగు నిరంతరం ప్రజల కోసం, మెరుగైన సమాజం కోసం చ\n",
      "current frame:  నిరంతరం ప్రజల కోసం, మెరుగైన సమాజం కోసం చూడండి .'/9 తెలుగ\n",
      "current frame: ం, మెరుగైన సమాజం కోసం చూడండి 7/9 తెలుగు. // 666 8\n",
      "current frame: కోసం చూడండి [/9 తెలుగు. // _ [666 8261: మీ ప్రాంతంల\n",
      "current frame: 9 తెలుగు. // _ 5664 82016: మీ ప్రాంతంలో సమస్యలేమైనా ఉంట\n",
      "current frame: 6 820%: మీ ప్రాంతంలో సమస్యలేమైనా ఉంటే మా 14411 10. \n",
      "current frame: ీ ప్రాంతంలో సమస్యలేమైనా ఉంటే మా 14411 10. 1౧10్ర[/9.000\n",
      "current frame: లేమైనా ఉంటే మా 1411 10. 1౧10'్ర[0/.00\n",
      "current frame: 411. 10. 1౧/0్ర[/9.00౧౧ (4\n",
      "current frame: .60౧౧ ల/ మార్నింగ్‌ ప్రైమ్‌ టైమ్‌ \n",
      "current frame: ింగ్‌ ప్రైమ్‌ టైమ్‌ . ఉదయం రీ నుంచి\n",
      "current frame: ింగ్‌ ప్రైమ్‌ టైమ్‌ . ఉదయం ర నుంచి 1 1గంటల వరకు బ్రేకింగ\n",
      "current frame: గ్‌ ప్రైమ్‌ టైమ్‌ . ఉదయం ర నుంచి 11గంటల వరకు బ్రేకింగ్‌ న్యూస్‌, స్పీడ్‌ న్యూస్\n",
      "current frame:  నుంచి 1 1గంటల వరకు బ్రేకింగ్‌ న్యూస్‌, స్పీడ్‌ న్యూస్‌... మీ కోసం 5గం\n",
      "current frame: వరకు బ్రేకింగ్‌ న్యూస్‌, స్పీడ్‌ న్యూస్‌... మీ కోసం 5గంటలపాటు నాన్‌స్టాప్‌గ\n",
      "current frame: ్‌, స్పీడ్‌ న్యూస్‌... మీ కోసం 5గంటలపాటు నాన్‌స్టాప్‌గా మీ ముందుకు 1౪/9\n",
      "current frame: సం 5గంటలపాటు నాన్‌స్టాప్‌గా మీ ముందుకు [౪/9 మార్నింగ్‌ ప్రైమ్‌ ట\n",
      "current frame: నాన్‌స్టాప్‌గా మీ ముందుకు [౪/9 మార్నింగ్‌ ప్రైమ్‌ టైమ్\n",
      "current frame: కు [౪/9 మార్నింగ్‌ ప్రైమ్‌ టైమ్‌. // థా ఇన్‌సైడ్‌ \n",
      "current frame: గ్‌ ప్రైమ్‌ టైమ్‌. // శ్ర ఇన్‌సైడ్‌ రాజకీయాలపై పొలిటి\n",
      "current frame: రా ఇన్‌సైడ్‌ రాజకీయాలపై పొలిటికల్‌ మిర్చి సా: 5:30\n",
      "రాత్రి 9గంటలకు // అన్ని రకాల వార్తల కోసం చూస్తూనే ఉండండి కల కోసం చూస్తూనే ఉండండినెంబర్‌ వన్‌ న్యూస్‌ నెట్‌వర్క్‌: నెంబర్‌ వన్‌ న్యూస్‌ ఛానల్‌ టీవీ?్‌ వన్‌ న్యూస్‌ నెట్‌వర్క్‌: నెంబర్‌ వన్‌ న్యూస్‌ ఛానల్‌ టీవీ9 తెలుగు నిరంతరం ప్రజల కోసం, మెరుగైన సమాజం కోసం చూడండి .'/9 తెలుగం, మెరుగైన సమాజం కోసం చూడండి 7/9 తెలుగు. // 666 8కోసం చూడండి [/9 తెలుగు. // _ [666 8261: మీ ప్రాంతంల9 తెలుగు. // _ 5664 82016: మీ ప్రాంతంలో సమస్యలేమైనా ఉంట6 820%: మీ ప్రాంతంలో సమస్యలేమైనా ఉంటే మా 14411 10. 1౧10్ర[/9.000లేమైనా ఉంటే మా 1411 10. 1౧10'్ర[0/.00411. 10. 1౧/0్ర[/9.00౧౧ (4.60౧౧ ల/ మార్నింగ్‌ ప్రైమ్‌ టైమ్‌ . ఉదయం రీ నుంచింగ్‌ ప్రైమ్‌ టైమ్‌ . ఉదయం ర నుంచి 1 1గంటల వరకు బ్రేకింగ్‌ ప్రైమ్‌ టైమ్‌ . ఉదయం ర నుంచి 11గంటల వరకు బ్రేకింగ్‌ న్యూస్‌, స్పీడ్‌ న్యూస్ నుంచి 1 1గంటల వరకు బ్రేకింగ్‌ న్యూస్‌, స్పీడ్‌ న్యూస్‌... మీ కోసం 5గంటలపాటు నాన్‌స్టాప్‌గా మీ ముందుకు 1౪/9సం 5గంటలపాటు నాన్‌స్టాప్‌గా మీ ముందుకు [౪/9 మార్నింగ్‌ ప్రైమ్‌ టైమ్‌. // థా ఇన్‌సైడ్‌ గ్‌ ప్రైమ్‌ టైమ్‌. // శ్ర ఇన్‌సైడ్‌ రాజకీయాలపై పొలిటిరా ఇన్‌సైడ్‌ రాజకీయాలపై పొలిటికల్‌ మిర్చి సా: 5:30\n"
     ]
    }
   ],
   "source": [
    "# Initialize an empty list to store the extracted text from each frame\n",
    "text_list = []\n",
    "final_string = \"\"\n",
    "\n",
    "# Read frames from the video\n",
    "for i in range(frame_count):\n",
    "    # Read the next frame\n",
    "    ret, frame = cap.read()\n",
    "\n",
    "    # Check if the frame was successfully read\n",
    "    if not ret:\n",
    "        break\n",
    "\n",
    "    # Extract text from every 10th frame using extract_telugu_text\n",
    "    if i % 50 == 0:\n",
    "        telugu_text = extract_telugu_text(frame, x, y, w, h)\n",
    "\n",
    "        # Append the extracted text to the text_list\n",
    "        print(\"current frame:\", telugu_text)\n",
    "        text_list.append(telugu_text)\n",
    "        final_string = stitch_strings(final_string, telugu_text)\n",
    "\n",
    "\n",
    "\n",
    "# Print the final string\n",
    "print(final_string)\n",
    "\n"
   ]
  },
  {
   "cell_type": "code",
   "execution_count": 9,
   "metadata": {},
   "outputs": [
    {
     "data": {
      "text/plain": [
       "['రాత్రి 9గంటలకు // అన్ని రకాల వార్తల కోసం చూస్తూనే ఉండండి ',\n",
       " 'అన్ని రకాల వార్తల కోసం చూస్తూనే ఉండండి క',\n",
       " 'ల కోసం చూస్తూనే ఉండండి',\n",
       " 'నెంబర్\\u200c వన్\\u200c న్యూస్\\u200c నెట్\\u200cవర్క్\\u200c: నెంబర్\\u200c వన్',\n",
       " 'ెంబర్\\u200c వన్\\u200c న్యూస్\\u200c నెట్\\u200cవర్క్\\u200c: నెంబర్\\u200c వన్\\u200c న్యూస్\\u200c ఛానల్\\u200c టీవీ?',\n",
       " '్\\u200c వన్\\u200c న్యూస్\\u200c నెట్\\u200cవర్క్\\u200c: నెంబర్\\u200c వన్\\u200c న్యూస్\\u200c ఛానల్\\u200c టీవీ9 తెలుగు నిరంతరం ప',\n",
       " '్క్\\u200c: నెంబర్\\u200c వన్\\u200c న్యూస్\\u200c ఛానల్\\u200c టీవీ9 తెలుగు నిరంతరం ప్రజల కోసం, మెరుగై',\n",
       " '\\u200c ఛానల్\\u200c టీవీ9 తెలుగు నిరంతరం ప్రజల కోసం, మెరుగైన సమాజం కోసం చ',\n",
       " \" నిరంతరం ప్రజల కోసం, మెరుగైన సమాజం కోసం చూడండి .'/9 తెలుగ\",\n",
       " 'ం, మెరుగైన సమాజం కోసం చూడండి 7/9 తెలుగు. // 666 8',\n",
       " 'కోసం చూడండి [/9 తెలుగు. // _ [666 8261: మీ ప్రాంతంల',\n",
       " '9 తెలుగు. // _ 5664 82016: మీ ప్రాంతంలో సమస్యలేమైనా ఉంట',\n",
       " '6 820%: మీ ప్రాంతంలో సమస్యలేమైనా ఉంటే మా 14411 10. ',\n",
       " 'ీ ప్రాంతంలో సమస్యలేమైనా ఉంటే మా 14411 10. 1౧10్ర[/9.000',\n",
       " \"లేమైనా ఉంటే మా 1411 10. 1౧10'్ర[0/.00\",\n",
       " '411. 10. 1౧/0్ర[/9.00౧౧ (4',\n",
       " '.60౧౧ ల/ మార్నింగ్\\u200c ప్రైమ్\\u200c టైమ్\\u200c ',\n",
       " 'ింగ్\\u200c ప్రైమ్\\u200c టైమ్\\u200c . ఉదయం రీ నుంచి',\n",
       " 'ింగ్\\u200c ప్రైమ్\\u200c టైమ్\\u200c . ఉదయం ర నుంచి 1 1గంటల వరకు బ్రేకింగ',\n",
       " 'గ్\\u200c ప్రైమ్\\u200c టైమ్\\u200c . ఉదయం ర నుంచి 11గంటల వరకు బ్రేకింగ్\\u200c న్యూస్\\u200c, స్పీడ్\\u200c న్యూస్',\n",
       " ' నుంచి 1 1గంటల వరకు బ్రేకింగ్\\u200c న్యూస్\\u200c, స్పీడ్\\u200c న్యూస్\\u200c... మీ కోసం 5గం',\n",
       " 'వరకు బ్రేకింగ్\\u200c న్యూస్\\u200c, స్పీడ్\\u200c న్యూస్\\u200c... మీ కోసం 5గంటలపాటు నాన్\\u200cస్టాప్\\u200cగ',\n",
       " '్\\u200c, స్పీడ్\\u200c న్యూస్\\u200c... మీ కోసం 5గంటలపాటు నాన్\\u200cస్టాప్\\u200cగా మీ ముందుకు 1౪/9',\n",
       " 'సం 5గంటలపాటు నాన్\\u200cస్టాప్\\u200cగా మీ ముందుకు [౪/9 మార్నింగ్\\u200c ప్రైమ్\\u200c ట',\n",
       " 'నాన్\\u200cస్టాప్\\u200cగా మీ ముందుకు [౪/9 మార్నింగ్\\u200c ప్రైమ్\\u200c టైమ్',\n",
       " 'కు [౪/9 మార్నింగ్\\u200c ప్రైమ్\\u200c టైమ్\\u200c. // థా ఇన్\\u200cసైడ్\\u200c ',\n",
       " 'గ్\\u200c ప్రైమ్\\u200c టైమ్\\u200c. // శ్ర ఇన్\\u200cసైడ్\\u200c రాజకీయాలపై పొలిటి',\n",
       " 'రా ఇన్\\u200cసైడ్\\u200c రాజకీయాలపై పొలిటికల్\\u200c మిర్చి సా: 5:30']"
      ]
     },
     "execution_count": 9,
     "metadata": {},
     "output_type": "execute_result"
    }
   ],
   "source": [
    "text_list"
   ]
  },
  {
   "cell_type": "code",
   "execution_count": 10,
   "metadata": {},
   "outputs": [
    {
     "name": "stdout",
     "output_type": "stream",
     "text": [
      "‌\n"
     ]
    }
   ],
   "source": [
    "print(text_list[3][6])"
   ]
  },
  {
   "cell_type": "code",
   "execution_count": 11,
   "metadata": {},
   "outputs": [
    {
     "data": {
      "text/plain": [
       "'రాత్రి 9గంటలకు // అన్ని రకాల వార్తల కోసం చూస్తూనే ఉండండి క'"
      ]
     },
     "execution_count": 11,
     "metadata": {},
     "output_type": "execute_result"
    }
   ],
   "source": [
    "stitch_strings(text_list[0], text_list[1])"
   ]
  },
  {
   "cell_type": "code",
   "execution_count": 12,
   "metadata": {},
   "outputs": [
    {
     "name": "stdout",
     "output_type": "stream",
     "text": [
      "రాత్రి 9గంటలకు // అన్ని రకాల వార్తల కోసం చూస్తూనే ఉండండి కల కోసం చూస్తూనే ఉండండినెంబర్‌ వన్‌ న్యూస్‌ నెట్‌వర్క్‌: నెంబర్‌ వన్‌ న్యూస్‌ ఛానల్‌ టీవీ?్‌ వన్‌ న్యూస్‌ నెట్‌వర్క్‌: నెంబర్‌ వన్‌ న్యూస్‌ ఛానల్‌ టీవీ9 తెలుగు నిరంతరం ప్రజల కోసం, మెరుగైన సమాజం కోసం చూడండి .'/9 తెలుగం, మెరుగైన సమాజం కోసం చూడండి 7/9 తెలుగు. // 666 8కోసం చూడండి [/9 తెలుగు. // _ [666 8261: మీ ప్రాంతంల9 తెలుగు. // _ 5664 82016: మీ ప్రాంతంలో సమస్యలేమైనా ఉంట6 820%: మీ ప్రాంతంలో సమస్యలేమైనా ఉంటే మా 14411 10. 1౧10్ర[/9.000లేమైనా ఉంటే మా 1411 10. 1౧10'్ర[0/.00411. 10. 1౧/0్ర[/9.00౧౧ (4.60౧౧ ల/ మార్నింగ్‌ ప్రైమ్‌ టైమ్‌ . ఉదయం రీ నుంచింగ్‌ ప్రైమ్‌ టైమ్‌ . ఉదయం ర నుంచి 1 1గంటల వరకు బ్రేకింగ్‌ ప్రైమ్‌ టైమ్‌ . ఉదయం ర నుంచి 11గంటల వరకు బ్రేకింగ్‌ న్యూస్‌, స్పీడ్‌ న్యూస్ నుంచి 1 1గంటల వరకు బ్రేకింగ్‌ న్యూస్‌, స్పీడ్‌ న్యూస్‌... మీ కోసం 5గంటలపాటు నాన్‌స్టాప్‌గా మీ ముందుకు 1౪/9సం 5గంటలపాటు నాన్‌స్టాప్‌గా మీ ముందుకు [౪/9 మార్నింగ్‌ ప్రైమ్‌ టైమ్‌. // థా ఇన్‌సైడ్‌ గ్‌ ప్రైమ్‌ టైమ్‌. // శ్ర ఇన్‌సైడ్‌ రాజకీయాలపై పొలిటిరా ఇన్‌సైడ్‌ రాజకీయాలపై పొలిటికల్‌ మిర్చి సా: 5:30\n"
     ]
    }
   ],
   "source": [
    "print(final_string)"
   ]
  }
 ],
 "metadata": {
  "kernelspec": {
   "display_name": "venv",
   "language": "python",
   "name": "python3"
  },
  "language_info": {
   "codemirror_mode": {
    "name": "ipython",
    "version": 3
   },
   "file_extension": ".py",
   "mimetype": "text/x-python",
   "name": "python",
   "nbconvert_exporter": "python",
   "pygments_lexer": "ipython3",
   "version": "3.11.3"
  }
 },
 "nbformat": 4,
 "nbformat_minor": 2
}
