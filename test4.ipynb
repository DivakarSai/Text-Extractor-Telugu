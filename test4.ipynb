{
 "cells": [
  {
   "cell_type": "code",
   "execution_count": 1,
   "metadata": {},
   "outputs": [],
   "source": [
    "import cv2\n",
    "from videoExtraction import capture_video\n",
    "from videoExtraction import video_properties\n"
   ]
  },
  {
   "cell_type": "code",
   "execution_count": 2,
   "metadata": {},
   "outputs": [],
   "source": [
    "# Open the video file\n",
    "video_path = \"videos/tv9_video.mp4\"\n",
    "cap = capture_video(video_path)"
   ]
  },
  {
   "cell_type": "code",
   "execution_count": 3,
   "metadata": {},
   "outputs": [
    {
     "name": "stdout",
     "output_type": "stream",
     "text": [
      "width:  854\n"
     ]
    }
   ],
   "source": [
    "fps, width, height, total_frames = video_properties(cap)\n",
    "print(\"width: \", width)"
   ]
  },
  {
   "cell_type": "code",
   "execution_count": 4,
   "metadata": {},
   "outputs": [],
   "source": [
    "from videoExtraction import text_from_video\n",
    "\n",
    "# Extract text from video\n",
    "text = text_from_video(cap,frame_count=total_frames)"
   ]
  },
  {
   "cell_type": "code",
   "execution_count": 5,
   "metadata": {},
   "outputs": [
    {
     "name": "stdout",
     "output_type": "stream",
     "text": [
      "రాత్రి 9గంటలకు // అన్ని రకాల వార్తల కోసం చూస్తూనే ఉండండినెంబర్‌ వన్‌ న్యూస్‌ నెట్‌వర్క్‌: నెంబర్‌ వన్‌ న్యూస్‌ ఛానల్‌ టీవీ9 తెలుగు నిరంతరం ప్రజల కోసం, మెరురై‌ ఛానల్‌ టీవీ9? తెలుగు నిరంతరం ప్రజల కోసం, మెరుగైన సమాజం కోసం చూడండి ౪9 తెలుగం, మెరుగైన సమాజం కోసం చూడండి 7౪9 తెలుగు. // 6664 కోసం చూడండి ౪9 తెలుగు. // _ [666 8261 మీ ప్రాంతంల తెలుగు. // [866 8401: మీ ప్రాంతంలో సమస్యలేమైనా ఉంట6 8365: మీ ప్రాంతంలో సమస్యలేమైనా ఉంటే మా %411 10. 1 ప్రాంతంలో సమస్యలేమైనా ఉంటే మా $411 10. 1౧10త్ర[/౧.౧0౧లేమైనా ఉంటే మా 4411 10. 1౧10్ర్రళ1. 10. 1౧(0్రు[/9.00౧ జ్‌01 తగ్‌ మార్నింగ్‌ ప్రైమ్‌ టైమ్‌ . ఉదయం ర నుంచింగ్‌ ప్రైమ్‌ టైమ్‌ . ఉదయం క నుంచి 11గంటల వరకు బ్రేకింగ్‌ ప్రైమ్‌ టైమ్‌ . ఉదయం శ నుంచి 1 1గంటల వరకు బ్రేకింగ్‌ న్యూస్‌, స్పీడ్‌ న్యూస్ీ నుంచి 11గంటల వరకు బ్రేకింగ్‌ న్యూస్‌, స్పీడ్‌ న్యూస్‌... మీ కోసం క5గంవరకు బ్రేకింగ్‌ న్యూస్‌, స్పీడ్‌ న్యూస్‌... మీ కోసం 5గంటలపాటు నాన్‌స్టాప్‌గా మీ ముందుకు ౪9 సం కగంటలపాటు నాన్‌స్టాప్‌గా మీ ముందుకు 1౪9 మార్నింగ్‌ ప్రైమ్‌ టనాన్‌స్టాప్‌గా మీ ముందుకు ౪9 మార్నింగ్‌ ప్రైమ్‌ టైమ్కు 1౪? మార్నింగ్‌ ప్రైమ్‌ టైమ్‌. // థొ ఇన్‌సైడ్‌ గ్‌ ప్రైమ్‌ టైమ్‌. // శ్ర ఇన్‌సైడ్‌ రాజకీయాలపై పొలిటికల్‌ మిర్చి సా: 5:300\n"
     ]
    }
   ],
   "source": [
    "print(text)"
   ]
  },
  {
   "cell_type": "code",
   "execution_count": 6,
   "metadata": {},
   "outputs": [],
   "source": [
    "# # Initialize an empty list to store the extracted text from each frame\n",
    "# text_list = []\n",
    "# final_string = \"\"\n",
    "\n",
    "\n",
    "\n",
    "# # Read frames from the video\n",
    "# for i in range(total_frames):\n",
    "#     # Read the next frame\n",
    "#     ret, frame = cap.read()\n",
    "\n",
    "#     # Check if the frame was successfully read\n",
    "#     if not ret:\n",
    "#         break\n",
    "\n",
    "#     # Extract text from every 10th frame using extract_telugu_text\n",
    "#     if i % 50 == 0:\n",
    "#         telugu_text = extract_telugu_text(frame, x, y, w, h)\n",
    "\n",
    "#         # Append the extracted text to the text_list\n",
    "#         print(\"current frame:\", telugu_text)\n",
    "#         text_list.append(telugu_text)\n",
    "#         final_string = stitch_strings(final_string, telugu_text)\n",
    "\n",
    "\n",
    "\n",
    "# # Print the final string\n",
    "# print(final_string)\n",
    "\n"
   ]
  }
 ],
 "metadata": {
  "kernelspec": {
   "display_name": "venv",
   "language": "python",
   "name": "python3"
  },
  "language_info": {
   "codemirror_mode": {
    "name": "ipython",
    "version": 3
   },
   "file_extension": ".py",
   "mimetype": "text/x-python",
   "name": "python",
   "nbconvert_exporter": "python",
   "pygments_lexer": "ipython3",
   "version": "3.11.3"
  }
 },
 "nbformat": 4,
 "nbformat_minor": 2
}
