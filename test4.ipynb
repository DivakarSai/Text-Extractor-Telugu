{
 "cells": [
  {
   "cell_type": "code",
   "execution_count": 1,
   "metadata": {},
   "outputs": [],
   "source": [
    "import cv2\n",
    "from videoExtraction import capture_video\n",
    "from videoExtraction import video_properties\n"
   ]
  },
  {
   "cell_type": "code",
   "execution_count": 2,
   "metadata": {},
   "outputs": [],
   "source": [
    "# Open the video file\n",
    "video_path = \"videos/tv9_video.mp4\"\n",
    "cap = capture_video(video_path)"
   ]
  },
  {
   "cell_type": "code",
   "execution_count": 3,
   "metadata": {},
   "outputs": [],
   "source": [
    "fps, width, height, total_frames = video_properties(cap)\n"
   ]
  },
  {
   "cell_type": "code",
   "execution_count": 4,
   "metadata": {},
   "outputs": [],
   "source": [
    "from videoExtraction import text_from_video\n",
    "\n",
    "# Extract text from video\n",
    "text = text_from_video(cap,frame_count=total_frames)"
   ]
  },
  {
   "cell_type": "code",
   "execution_count": 5,
   "metadata": {},
   "outputs": [
    {
     "name": "stdout",
     "output_type": "stream",
     "text": [
      "రాత్రి 9గంటలకు // అన్ని రకాల వార్తల కోసం చూస్తూనే ఉండండి కల కోసం చూస్తూనే ఉండండినెంబర్‌ వన్‌ న్యూస్‌ నెట్‌వర్క్‌: నెంబర్‌ వన్‌ న్యూస్‌ ఛానల్‌ టీవీ?్‌ వన్‌ న్యూస్‌ నెట్‌వర్క్‌: నెంబర్‌ వన్‌ న్యూస్‌ ఛానల్‌ టీవీ9 తెలుగు నిరంతరం ప్రజల కోసం, మెరుగైన సమాజం కోసం చూడండి .'/9 తెలుగం, మెరుగైన సమాజం కోసం చూడండి 7/9 తెలుగు. // 666 8కోసం చూడండి [/9 తెలుగు. // _ [666 8261: మీ ప్రాంతంల9 తెలుగు. // _ 5664 82016: మీ ప్రాంతంలో సమస్యలేమైనా ఉంట6 820%: మీ ప్రాంతంలో సమస్యలేమైనా ఉంటే మా 14411 10. 1౧10్ర[/9.000లేమైనా ఉంటే మా 1411 10. 1౧10'్ర[0/.00411. 10. 1౧/0్ర[/9.00౧౧ (4.60౧౧ ల/ మార్నింగ్‌ ప్రైమ్‌ టైమ్‌ . ఉదయం రీ నుంచింగ్‌ ప్రైమ్‌ టైమ్‌ . ఉదయం ర నుంచి 1 1గంటల వరకు బ్రేకింగ్‌ ప్రైమ్‌ టైమ్‌ . ఉదయం ర నుంచి 11గంటల వరకు బ్రేకింగ్‌ న్యూస్‌, స్పీడ్‌ న్యూస్ నుంచి 1 1గంటల వరకు బ్రేకింగ్‌ న్యూస్‌, స్పీడ్‌ న్యూస్‌... మీ కోసం 5గంటలపాటు నాన్‌స్టాప్‌గా మీ ముందుకు 1౪/9సం 5గంటలపాటు నాన్‌స్టాప్‌గా మీ ముందుకు [౪/9 మార్నింగ్‌ ప్రైమ్‌ టైమ్‌. // థా ఇన్‌సైడ్‌ గ్‌ ప్రైమ్‌ టైమ్‌. // శ్ర ఇన్‌సైడ్‌ రాజకీయాలపై పొలిటిరా ఇన్‌సైడ్‌ రాజకీయాలపై పొలిటికల్‌ మిర్చి సా: 5:30\n"
     ]
    }
   ],
   "source": [
    "print(text)"
   ]
  },
  {
   "cell_type": "code",
   "execution_count": 6,
   "metadata": {},
   "outputs": [],
   "source": [
    "# # Initialize an empty list to store the extracted text from each frame\n",
    "# text_list = []\n",
    "# final_string = \"\"\n",
    "\n",
    "\n",
    "\n",
    "# # Read frames from the video\n",
    "# for i in range(total_frames):\n",
    "#     # Read the next frame\n",
    "#     ret, frame = cap.read()\n",
    "\n",
    "#     # Check if the frame was successfully read\n",
    "#     if not ret:\n",
    "#         break\n",
    "\n",
    "#     # Extract text from every 10th frame using extract_telugu_text\n",
    "#     if i % 50 == 0:\n",
    "#         telugu_text = extract_telugu_text(frame, x, y, w, h)\n",
    "\n",
    "#         # Append the extracted text to the text_list\n",
    "#         print(\"current frame:\", telugu_text)\n",
    "#         text_list.append(telugu_text)\n",
    "#         final_string = stitch_strings(final_string, telugu_text)\n",
    "\n",
    "\n",
    "\n",
    "# # Print the final string\n",
    "# print(final_string)\n",
    "\n"
   ]
  }
 ],
 "metadata": {
  "kernelspec": {
   "display_name": "venv",
   "language": "python",
   "name": "python3"
  },
  "language_info": {
   "codemirror_mode": {
    "name": "ipython",
    "version": 3
   },
   "file_extension": ".py",
   "mimetype": "text/x-python",
   "name": "python",
   "nbconvert_exporter": "python",
   "pygments_lexer": "ipython3",
   "version": "3.11.3"
  }
 },
 "nbformat": 4,
 "nbformat_minor": 2
}
