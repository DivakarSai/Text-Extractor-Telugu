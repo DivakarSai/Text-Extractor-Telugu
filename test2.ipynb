{
 "cells": [
  {
   "cell_type": "code",
   "execution_count": 9,
   "metadata": {},
   "outputs": [],
   "source": [
    "image_path = \"./images/full_image.png\""
   ]
  },
  {
   "cell_type": "code",
   "execution_count": 13,
   "metadata": {},
   "outputs": [],
   "source": [
    "import pytesseract,cv2\n",
    "\n",
    "from detection.region import scrolling_region\n",
    "\n",
    "\n",
    "\n",
    "# Load the image\n",
    "image = cv2.imread(image_path)\n",
    "\n",
    "# Set the region of interest\n",
    "x,y,w,h = scrolling_region\n",
    "\n",
    "# draw the region of interest\n",
    "cv2.rectangle(image, (x, y), (x+w, y+h), (0, 255, 0), 2)\n",
    "\n",
    "# display the image with the region of interest\n",
    "cv2.imshow(\"Image\", image)\n",
    "cv2.waitKey(50)\n",
    "cv2.destroyAllWindows()\n",
    "\n",
    "\n",
    "\n"
   ]
  },
  {
   "cell_type": "code",
   "execution_count": 11,
   "metadata": {},
   "outputs": [],
   "source": [
    "from extractText import extract_telugu_text\n"
   ]
  },
  {
   "cell_type": "code",
   "execution_count": 12,
   "metadata": {},
   "outputs": [
    {
     "name": "stdout",
     "output_type": "stream",
     "text": [
      "చంద్రబాబు వద్దకు చేరిన జమ్మలమడుగు పంచాయితీ, బాబాయ్‌- అబ్బాయి మధ్య కుదిరిన సయోధ్య, జమ్మలః\n",
      "\n"
     ]
    }
   ],
   "source": [
    "telugu_text = extract_telugu_text(image_path, x, y, w, h)\n",
    "print(telugu_text)\n"
   ]
  }
 ],
 "metadata": {
  "kernelspec": {
   "display_name": "venv",
   "language": "python",
   "name": "python3"
  },
  "language_info": {
   "codemirror_mode": {
    "name": "ipython",
    "version": 3
   },
   "file_extension": ".py",
   "mimetype": "text/x-python",
   "name": "python",
   "nbconvert_exporter": "python",
   "pygments_lexer": "ipython3",
   "version": "3.11.3"
  }
 },
 "nbformat": 4,
 "nbformat_minor": 2
}
