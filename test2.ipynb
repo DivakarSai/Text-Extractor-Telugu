{
 "cells": [
  {
   "cell_type": "code",
   "execution_count": 7,
   "metadata": {},
   "outputs": [],
   "source": [
    "image_path = \"./images/full_image1.png\""
   ]
  },
  {
   "cell_type": "code",
   "execution_count": 8,
   "metadata": {},
   "outputs": [],
   "source": [
    "import pytesseract,cv2\n",
    "\n",
    "from detection.region import scrolling_region\n",
    "\n",
    "\n",
    "\n",
    "# Load the image\n",
    "image = cv2.imread(image_path)\n",
    "\n",
    "# Set the region of interest\n",
    "x,y,w,h = scrolling_region\n",
    "\n",
    "# draw the region of interest\n",
    "cv2.rectangle(image, (x, y), (x+w, y+h), (0, 255, 0), 2)\n",
    "\n",
    "# display the image with the region of interest\n",
    "cv2.imshow(\"Image\", image)\n",
    "cv2.waitKey(50)\n",
    "cv2.destroyAllWindows()\n",
    "\n",
    "\n",
    "\n"
   ]
  },
  {
   "cell_type": "code",
   "execution_count": 9,
   "metadata": {},
   "outputs": [],
   "source": [
    "from extractText import extract_telugu_text\n"
   ]
  },
  {
   "cell_type": "code",
   "execution_count": 10,
   "metadata": {},
   "outputs": [],
   "source": [
    "image_path2 = \"./images/full_image2.png\""
   ]
  },
  {
   "cell_type": "code",
   "execution_count": 11,
   "metadata": {},
   "outputs": [
    {
     "name": "stdout",
     "output_type": "stream",
     "text": [
      "శ$్ర (ప్రభుత్వ మెడికల్‌ కాలేజ్‌ విద్యార్థినులకు మెస్‌ నిర్వాహకుడి వేధి\n",
      "వేధింపులు, పోలీసులకు ఫిర్యాదు చేసిన ష్టూడెంట్స్‌... విద్యార్థులతో కలిసి ఉన్న ఫోటోలు చూపించి బెద\n"
     ]
    }
   ],
   "source": [
    "telugu_text1 = extract_telugu_text(image_path, x, y, w, h)\n",
    "telugu_text2 = extract_telugu_text(image_path2, x, y, w, h)\n",
    "\n",
    "# drop the last 5 charecters for vaoiding errors\n",
    "telugu_text1 = telugu_text1[:-5]\n",
    "telugu_text2 = telugu_text2[:-5]\n",
    "print(telugu_text1)\n",
    "print(telugu_text2)\n"
   ]
  },
  {
   "cell_type": "code",
   "execution_count": 12,
   "metadata": {},
   "outputs": [
    {
     "name": "stdout",
     "output_type": "stream",
     "text": [
      "శ$్ర (ప్రభుత్వ మెడికల్‌ కాలేజ్‌ విద్యార్థినులకు మెస్‌ నిర్వాహకుడి వేధింపులు, పోలీసులకు ఫిర్యాదు చేసిన ష్టూడెంట్స్‌... విద్యార్థులతో కలిసి ఉన్న ఫోటోలు చూపించి బెద\n"
     ]
    }
   ],
   "source": [
    "import re\n",
    "\n",
    "def stitch_strings(first_string, second_string):\n",
    "\n",
    "\n",
    "    # Convert the strings to lowercase for case-insensitive matching\n",
    "    first_string = first_string.lower()\n",
    "    second_string = second_string.lower()\n",
    "\n",
    "    # Find the common pattern\n",
    "    match = re.search(r'(.+)(\\s+)(\\S+)$', first_string)\n",
    "    if match:\n",
    "        common_suffix = match.group(3)\n",
    "        index = second_string.find(common_suffix)\n",
    "        if index != -1:\n",
    "            # Combine the strings using the common pattern\n",
    "            return first_string + second_string[index + len(common_suffix):]\n",
    "    \n",
    "    # If no common pattern is found, just concatenate the strings\n",
    "    return first_string + second_string\n",
    "\n",
    "# Example usage\n",
    "telugu_first_string = \"జాన్ ఒక మంచి పిల్లి\"\n",
    "telugu_second_string = \"మంచి పిల్లి మరియు అతను బగుడుగా ఆడుతాడు\"\n",
    "result = stitch_strings(telugu_text1, telugu_text2)\n",
    "\n"
   ]
  },
  {
   "cell_type": "code",
   "execution_count": 13,
   "metadata": {},
   "outputs": [
    {
     "name": "stdout",
     "output_type": "stream",
     "text": [
      "first string:  శ$్ర (ప్రభుత్వ మెడికల్‌ కాలేజ్‌ విద్యార్థినులకు మెస్‌ నిర్వాహకుడి వేధి\n",
      "second string:  వేధింపులు, పోలీసులకు ఫిర్యాదు చేసిన ష్టూడెంట్స్‌... విద్యార్థులతో కలిసి ఉన్న ఫోటోలు చూపించి బెద\n",
      "stitched string:  శ$్ర (ప్రభుత్వ మెడికల్‌ కాలేజ్‌ విద్యార్థినులకు మెస్‌ నిర్వాహకుడి వేధింపులు, పోలీసులకు ఫిర్యాదు చేసిన ష్టూడెంట్స్‌... విద్యార్థులతో కలిసి ఉన్న ఫోటోలు చూపించి బెద\n"
     ]
    }
   ],
   "source": [
    "print(\"first string: \",telugu_text1)\n",
    "print(\"second string: \",telugu_text2)\n",
    "\n",
    "print(\"stitched string: \",result)"
   ]
  }
 ],
 "metadata": {
  "kernelspec": {
   "display_name": "venv",
   "language": "python",
   "name": "python3"
  },
  "language_info": {
   "codemirror_mode": {
    "name": "ipython",
    "version": 3
   },
   "file_extension": ".py",
   "mimetype": "text/x-python",
   "name": "python",
   "nbconvert_exporter": "python",
   "pygments_lexer": "ipython3",
   "version": "3.11.3"
  }
 },
 "nbformat": 4,
 "nbformat_minor": 2
}
