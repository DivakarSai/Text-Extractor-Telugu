{
 "cells": [
  {
   "cell_type": "code",
   "execution_count": 1,
   "metadata": {},
   "outputs": [],
   "source": [
    "import cv2\n",
    "from video import Video\n",
    "\n",
    "\n"
   ]
  },
  {
   "cell_type": "code",
   "execution_count": 2,
   "metadata": {},
   "outputs": [],
   "source": [
    "# Open the video file\n",
    "path = \"videos/tv9_video.mp4\"\n",
    "video = Video(path)"
   ]
  },
  {
   "cell_type": "code",
   "execution_count": 3,
   "metadata": {},
   "outputs": [],
   "source": [
    "from scrollingTextExtraction import text_from_video\n",
    "from regionofinterest import scrolling_region\n",
    "\n",
    "# Extract text from video\n",
    "text = text_from_video(video, scrolling_region)"
   ]
  },
  {
   "cell_type": "code",
   "execution_count": 4,
   "metadata": {},
   "outputs": [
    {
     "name": "stdout",
     "output_type": "stream",
     "text": [
      "ట్లో రాత్రి అన్ని రకాల వార్తల కోసం చూస్తూనే ఉండండి// అన్ని రకాల వార్తల కోసం చూస్తూనే ఉండండినెంబర్‌ వన్‌ న్యూస్‌ నెట్‌వర్క్‌: నెంబర్‌ వన్‌ నూనెంబర్‌ వన్‌ న్యూస్‌ నెట్‌వర్క్‌: నెంబర్‌ వన్‌ న్యూస్‌ ఛానల్‌ టీవీ?నెంబర్‌ వన్‌ న్యూస్‌ నెట్‌వర్క్‌: నెంబర్‌ వన్‌ న్యూస్‌ టీవీ9 తెలుగు నిరంతరం ప్రజలనెంబర్‌ వన్‌ న్యూస్‌ ఛానల్‌ టీవీ9 తెలుగు నిరంతరం ప్రజల కోసం, సవ్యాస్‌ ఛానల్‌ తెలుగు నిరంతరం ప్రజల కోసం, మెరుగైన సమాజం కోసం చూడం!'లుగు నిరంతరం ప్రజల కోసం, సమాజం కోసం చూడండి //మాజం కోసం చూడండి మీ ప్రాంతంలో సమడి // మీ ప్రాంతంలో సమస్యలేమైనా ఉంటే మా// మీ ప్రాంతంలో సమస్యలేమైనా 10.మీ ప్రాంతంలో సమస్యలేమైనా ఉంటే మా 10.టైమ్‌ . ఉదమార్షింగ్‌ టైమ్‌ . ఉదయం ర నుంచి 11గప్రైమ్‌ టైమ్‌ . ఉదయం నుంచి 11గంటల వరకు బ్రేకింగ్‌ నప్రైమ్‌ టైమ్‌ . ఉదయం శ నుంచి వరకు బ్రేకింగ్‌ న్యూస్‌, స్పీడ్‌దయం నుంచి 11గంటల వరకు బ్రేకింగ్‌ న్యూస్‌, స్పీడ్‌ మీ కోసంగంటల వరకు బ్రేకింగ్‌ న్యూస్‌, స్పీడ్‌ న్యూస్‌... మీ కోసం 5గంటలపాటు నాన్‌స్టాప్‌గా మీ ;న్యూస్‌, స్పీడ్‌ న్యూస్‌... మీ కోసం 5గంటలపాటు నాన్‌స్టాప్‌గా మీ ముందుకు ౪9మీ కోసం కగంటలపాటు మీ ముందుకు ప్రైమ్‌ టైమ్‌ //ముందుకు మార్నింగ్‌ // రాజకీయాలపై పొలిటికల్‌ఇన్‌సైడ్‌ రాజకీయాలపై పొలిటికల్‌ మిర్చి సా:\n"
     ]
    }
   ],
   "source": [
    "print(text)"
   ]
  }
 ],
 "metadata": {
  "kernelspec": {
   "display_name": "venv",
   "language": "python",
   "name": "python3"
  },
  "language_info": {
   "codemirror_mode": {
    "name": "ipython",
    "version": 3
   },
   "file_extension": ".py",
   "mimetype": "text/x-python",
   "name": "python",
   "nbconvert_exporter": "python",
   "pygments_lexer": "ipython3",
   "version": "3.11.3"
  }
 },
 "nbformat": 4,
 "nbformat_minor": 2
}
